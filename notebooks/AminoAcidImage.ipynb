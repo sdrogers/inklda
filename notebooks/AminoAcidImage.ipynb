{
 "cells": [
  {
   "cell_type": "code",
   "execution_count": 71,
   "metadata": {
    "collapsed": false
   },
   "outputs": [
    {
     "name": "stdout",
     "output_type": "stream",
     "text": [
      "The autoreload extension is already loaded. To reload it, use:\n",
      "  %reload_ext autoreload\n"
     ]
    }
   ],
   "source": [
    "import numpy as np\n",
    "import pylab as plt\n",
    "import pymzml\n",
    "%matplotlib inline\n",
    "\n",
    "%load_ext autoreload\n",
    "%autoreload 2\n",
    "\n",
    "import sys\n",
    "sys.path.append('/Users/simon/git/inklda/code/')\n",
    "from lda import LDA"
   ]
  },
  {
   "cell_type": "code",
   "execution_count": 72,
   "metadata": {
    "collapsed": true
   },
   "outputs": [],
   "source": [
    "aa_file = '/Users/simon/Dropbox/MS_Ink_Data/Amino Acids/AA_Array_2.mzML'"
   ]
  },
  {
   "cell_type": "markdown",
   "metadata": {},
   "source": [
    "Load the mzML file"
   ]
  },
  {
   "cell_type": "code",
   "execution_count": 228,
   "metadata": {
    "collapsed": false
   },
   "outputs": [
    {
     "name": "stdout",
     "output_type": "stream",
     "text": [
      "Loaded 2281 scans\n"
     ]
    }
   ],
   "source": [
    "run = pymzml.run.Reader(aa_file, MS1_Precision=5e-6)\n",
    "nScans = run.getSpectrumCount()\n",
    "print \"Loaded {} scans\".format(nScans)"
   ]
  },
  {
   "cell_type": "markdown",
   "metadata": {},
   "source": [
    "Note -- in this data, the scans are positive and negative so we only want half of them"
   ]
  },
  {
   "cell_type": "code",
   "execution_count": 74,
   "metadata": {
    "collapsed": false
   },
   "outputs": [],
   "source": [
    "scan_type = 'pos' # or 'neg'"
   ]
  },
  {
   "cell_type": "code",
   "execution_count": 75,
   "metadata": {
    "collapsed": false
   },
   "outputs": [],
   "source": [
    "minmz = 100\n",
    "maxmz = 500\n",
    "bins = np.arange(100,500,1)\n",
    "binned_data = np.empty((len(bins),nScans),np.float)"
   ]
  },
  {
   "cell_type": "code",
   "execution_count": 76,
   "metadata": {
    "collapsed": false
   },
   "outputs": [],
   "source": [
    "sp = 0\n",
    "for spectrum in run:\n",
    "    for m,i in spectrum.peaks:\n",
    "        mass_bin = int(np.floor(m))\n",
    "        if mass_bin >= minmz and mass_bin < maxmz:\n",
    "            binned_data[mass_bin-minmz][sp] += i\n",
    "    sp += 1"
   ]
  },
  {
   "cell_type": "code",
   "execution_count": 162,
   "metadata": {
    "collapsed": false
   },
   "outputs": [],
   "source": [
    "def get_matrix(binned_data,nBins,nScans):\n",
    "    n_rows = 6\n",
    "    row_width = 5.0\n",
    "    drop_height = 0.3\n",
    "    drop_perc = drop_height/(drop_height + row_width)\n",
    "    print drop_perc\n",
    "    scans_per_line = nScans/n_rows\n",
    "    nNonDrop = int(scans_per_line*(1-drop_perc))\n",
    "    image_array = np.zeros((n_rows,nNonDrop,nBins),np.float)\n",
    "    for index in range(nBins):\n",
    "        pos = 0\n",
    "        fwd = True\n",
    "        for row in range(n_rows):\n",
    "            if fwd:\n",
    "                image_array[row,:,index] = binned_data[index,pos:pos+nNonDrop]\n",
    "                pos += scans_per_line\n",
    "                fwd = False\n",
    "            else:\n",
    "                temp_line = binned_data[index,pos:pos+nNonDrop]\n",
    "                image_array[row,:,index] = temp_line[::-1]\n",
    "                pos += scans_per_line\n",
    "                fwd = True\n",
    "    return image_array"
   ]
  },
  {
   "cell_type": "code",
   "execution_count": 163,
   "metadata": {
    "collapsed": false
   },
   "outputs": [
    {
     "name": "stdout",
     "output_type": "stream",
     "text": [
      "2281\n",
      "0.0566037735849\n",
      "(6, 303, 3)\n"
     ]
    },
    {
     "data": {
      "text/plain": [
       "<matplotlib.image.AxesImage at 0x13cf1c7d0>"
      ]
     },
     "execution_count": 163,
     "metadata": {},
     "output_type": "execute_result"
    },
    {
     "data": {
      "image/png": "[encoded data removed]",
      "text/plain": [
       "<matplotlib.figure.Figure at 0x141b28250>"
      ]
     },
     "metadata": {},
     "output_type": "display_data"
    }
   ],
   "source": [
    "print nScans\n",
    "image_array = get_matrix(binned_data,len(bins),nScans)\n",
    "nrows,ncols,nbins = image_array.shape\n",
    "plt.figure(figsize=(20,20))\n",
    "plt.imshow(image_array[:,:,156],aspect=20,interpolation='None')\n",
    "im_small = im[0::17,:]\n",
    "print im_small.shape\n",
    "plt.imshow(im_small,alpha=0.5,aspect=20,extent=[0,ncols,5.5,-0.5],interpolation='None')\n"
   ]
  },
  {
   "cell_type": "code",
   "execution_count": 90,
   "metadata": {
    "collapsed": false
   },
   "outputs": [
    {
     "data": {
      "text/plain": [
       "<matplotlib.image.AxesImage at 0x119a3a3d0>"
      ]
     },
     "execution_count": 90,
     "metadata": {},
     "output_type": "execute_result"
    },
    {
     "data": {
      "image/png": "[encoded data removed]",
      "text/plain": [
       "<matplotlib.figure.Figure at 0x119957110>"
      ]
     },
     "metadata": {},
     "output_type": "display_data"
    }
   ],
   "source": [
    "im = plt.imread('/Users/simon/Dropbox/MS_Ink_Data/Amino Acids/grid.png')\n",
    "plt.imshow(im,alpha=0.6)"
   ]
  },
  {
   "cell_type": "markdown",
   "metadata": {},
   "source": [
    "Try just mapping each spectrum to an x,y co-ordinate (in mm)"
   ]
  },
  {
   "cell_type": "code",
   "execution_count": 344,
   "metadata": {
    "collapsed": false
   },
   "outputs": [
    {
     "data": {
      "text/plain": [
       "[<matplotlib.lines.Line2D at 0x155f5df50>]"
      ]
     },
     "execution_count": 344,
     "metadata": {},
     "output_type": "execute_result"
    },
    {
     "data": {
      "image/png": "[encoded data removed]",
      "text/plain": [
       "<matplotlib.figure.Figure at 0x1540bbe90>"
      ]
     },
     "metadata": {},
     "output_type": "display_data"
    }
   ],
   "source": [
    "# Starting positions\n",
    "xpos = 0\n",
    "ypos = 0\n",
    "class Pixel(object):\n",
    "    def __init__(self,x,y,spc_id):\n",
    "        self.col = x\n",
    "        self.row = y\n",
    "        self.spec_id = spec_id\n",
    "\n",
    "n_rows = 6.0\n",
    "time_between_scans = 1.25 # seconds\n",
    "row_length = 50.0 # mm\n",
    "drop_height = 3.0 # mm\n",
    "total_distance = (row_length + drop_height) * n_rows\n",
    "robot_speed = 1.0*total_distance/(nScans*time_between_scans)\n",
    "\n",
    "# robot_speed = 7.0/60.0 # mm per second\n",
    "\n",
    "\n",
    "scans_per_row = round(nScans / n_rows)\n",
    "row_scans = round(scans_per_row * row_length / (row_length + drop_height))\n",
    "rowcoord = []\n",
    "colcoord = []\n",
    "for spec_id in range(nScans+1):\n",
    "    time_elapsed = spec_id * time_between_scans\n",
    "    distance_traveled = time_elapsed * robot_speed\n",
    "    row_id = distance_traveled // (row_length + drop_height)\n",
    "    current_row = row_id * drop_height\n",
    "    current_col = distance_traveled % (row_length + drop_height)\n",
    "    if current_col > 50.0:\n",
    "        current_row += current_col - 50.0\n",
    "        current_col = 50.0\n",
    "    if int(row_id) % 2 == 1:\n",
    "        current_col = 50.0 - current_col\n",
    "    rowcoord.append(nrows*drop_height - current_row)\n",
    "    colcoord.append(current_col)\n",
    "    \n",
    "    \n",
    "plt.figure()\n",
    "plt.plot(np.array(colcoord),np.array(rowcoord),'ko')\n"
   ]
  },
  {
   "cell_type": "code",
   "execution_count": 345,
   "metadata": {
    "collapsed": true
   },
   "outputs": [],
   "source": [
    "def hit(m1,m2,tol):\n",
    "    if 1e6*abs(m1-m2)/m1 < tol:\n",
    "        return True\n",
    "    else:\n",
    "        return False"
   ]
  },
  {
   "cell_type": "code",
   "execution_count": 346,
   "metadata": {
    "collapsed": false
   },
   "outputs": [
    {
     "name": "stdout",
     "output_type": "stream",
     "text": [
      "Loaded 2281 scans\n",
      "Loaded 2281 scans\n",
      "Loaded 2281 scans\n",
      "Loaded 2281 scans\n",
      "Loaded 2281 scans\n"
     ]
    }
   ],
   "source": [
    "def get_intense(mass,ppm,aa_file):\n",
    "    run = pymzml.run.Reader(aa_file, MS1_Precision=5e-6)\n",
    "    nScans = run.getSpectrumCount()\n",
    "    print \"Loaded {} scans\".format(nScans)\n",
    "    \n",
    "    pos = 0\n",
    "    intense = []\n",
    "    for spectrum in run:\n",
    "        h_i = 0.0\n",
    "        for m,i in spectrum.peaks:\n",
    "            if hit(m,mass,ppm):\n",
    "                h_i += i\n",
    "        pos += 1\n",
    "        intense.append(h_i)\n",
    "    return intense\n",
    "        \n",
    "hist_intense = get_intense(156.0768,5,aa_file)\n",
    "phe_intense = get_intense(166.0863,5,aa_file)\n",
    "arg_intense = get_intense(175.1190,5,aa_file)\n",
    "pro_intense = get_intense(116.0706,5,aa_file)\n",
    "leu_inrense = get_intense(132.1019,5,aa_file)"
   ]
  },
  {
   "cell_type": "code",
   "execution_count": 347,
   "metadata": {
    "collapsed": false
   },
   "outputs": [
    {
     "data": {
      "image/png": "[encoded data removed]",
      "text/plain": [
       "<matplotlib.figure.Figure at 0x153cd50d0>"
      ]
     },
     "metadata": {},
     "output_type": "display_data"
    }
   ],
   "source": [
    "maxi = max(hist_intense)\n",
    "maxp = max(pro_intense)\n",
    "maxa = max(arg_intense)\n",
    "max_ph = max(phe_intense)\n",
    "max_l = max(leu_intense)\n",
    "plt.figure()\n",
    "for pos,i in enumerate(hist_intense):\n",
    "    x = colcoord[pos]\n",
    "    y = rowcoord[pos]\n",
    "    plt.plot(x,y,'ko',markersize=1)\n",
    "    r_val = i/maxi\n",
    "    if r_val > 0:\n",
    "        plt.plot(x,y,'ro',markersize=20.0*r_val)\n",
    "\n",
    "    r_val = pro_intense[pos]/maxp\n",
    "    if r_val > 0:\n",
    "        plt.plot(x,y,'bo',markersize=20.0*r_val)\n",
    "\n",
    "    r_val = arg_intense[pos]/maxa\n",
    "    if r_val > 0:\n",
    "        plt.plot(x,y,'go',markersize=20.0*r_val)\n",
    "\n",
    "    r_val = phe_intense[pos]/max_ph\n",
    "    if r_val > 0:\n",
    "        plt.plot(x,y,'yo',markersize=20.0*r_val)\n",
    "\n",
    "    r_val = leu_intense[pos]/max_l\n",
    "    if r_val > 0:\n",
    "        plt.plot(x,y,'mo',markersize=20.0*r_val)\n",
    "\n",
    "\n",
    "\n",
    "\n",
    "    "
   ]
  },
  {
   "cell_type": "markdown",
   "metadata": {},
   "source": [
    "Make the co-ordinates into an image with a particular resolution"
   ]
  },
  {
   "cell_type": "code",
   "execution_count": 367,
   "metadata": {
    "collapsed": false
   },
   "outputs": [],
   "source": [
    "def make_image(intense,rowcoord,colcoord,x_start = 0,x_end = 50,x_step=1,y_start=0,y_end=18,y_step=3):\n",
    "    x_lower_vals = np.arange(x_start,x_end,x_step)\n",
    "    y_lower_vals = np.arange(y_start,y_end,y_step)\n",
    "\n",
    "    n_x = len(x_lower_vals)\n",
    "    n_y = len(y_lower_vals)\n",
    "\n",
    "    image = np.zeros((n_y,n_x),np.float)\n",
    "\n",
    "    for k,yc in enumerate(rowcoord):\n",
    "        if yc > y_lower_vals[-1]:\n",
    "            y_in = n_y-1\n",
    "        elif yc == y_lower_vals[0]:\n",
    "            y_in = y_lower_vals[0]\n",
    "        else:\n",
    "            y_in = np.where(yc > y_lower_vals)[0][-1]\n",
    "        xc = colcoord[k]\n",
    "        if xc > x_lower_vals[-1]:\n",
    "            x_in = n_x - 1\n",
    "        elif xc == x_lower_vals[0]:\n",
    "            x_in = x_lower_vals[0]\n",
    "        else:\n",
    "            x_in = np.where(xc > x_lower_vals)[0][-1]\n",
    "        image[n_y-y_in-1,x_in] += intense[k]\n",
    "    return image"
   ]
  },
  {
   "cell_type": "code",
   "execution_count": 377,
   "metadata": {
    "collapsed": false
   },
   "outputs": [
    {
     "data": {
      "text/plain": [
       "<matplotlib.image.AxesImage at 0x15265d4d0>"
      ]
     },
     "execution_count": 377,
     "metadata": {},
     "output_type": "execute_result"
    },
    {
     "data": {
      "image/png": "[encoded data removed]",
      "text/plain": [
       "<matplotlib.figure.Figure at 0x14807ef90>"
      ]
     },
     "metadata": {},
     "output_type": "display_data"
    }
   ],
   "source": [
    "plt.imshow(make_image(hist_intense,rowcoord,colcoord),interpolation='none',aspect=5)\n",
    "# plt.imshow(make_image(arg_intense,rowcoord,colcoord),interpolation='none',aspect=5)"
   ]
  },
  {
   "cell_type": "markdown",
   "metadata": {},
   "source": [
    "Try some word selection"
   ]
  },
  {
   "cell_type": "code",
   "execution_count": 437,
   "metadata": {
    "collapsed": false
   },
   "outputs": [
    {
     "name": "stdout",
     "output_type": "stream",
     "text": [
      "0 233\n",
      "100 2562\n",
      "200 2686\n",
      "300 2887\n",
      "400 3174\n",
      "500 3188\n",
      "600 3199\n",
      "700 3210\n",
      "800 3465\n",
      "900 3714\n",
      "1000 3815\n",
      "1100 4087\n",
      "1200 4777\n",
      "1300 4778\n",
      "1400 4837\n",
      "1500 4853\n",
      "1600 4864\n",
      "1700 4977\n",
      "1800 5037\n",
      "1900 5366\n",
      "2000 5501\n",
      "2100 5503\n",
      "2200 5510\n"
     ]
    }
   ],
   "source": [
    "min_intense = 500.0 # Peaks below this level are ignored\n",
    "run = pymzml.run.Reader(aa_file, MS1_Precision=5e-6)\n",
    "total_peaks = 0.0\n",
    "unique_peaks = []\n",
    "instances = []\n",
    "tol = 10 # ppm\n",
    "spec_pos = 0\n",
    "for spectrum in run:\n",
    "    if spec_pos % 2 == 0:\n",
    "        for m,i in spectrum.peaks:\n",
    "            if i >= min_intense:\n",
    "                if len(unique_peaks) == 0:\n",
    "                    unique_peaks.append(m)\n",
    "                    instances.append(1)\n",
    "                    continue\n",
    "                total_peaks += 1\n",
    "#                 try:\n",
    "#                     idx = (idx for idx,ma in enumerate(unique_peaks) if hit(m,ma,tol)).next()\n",
    "#                     instances[idx] += 1\n",
    "#                 except:\n",
    "                idx = (np.abs(m-np.array(unique_peaks))).argmin()\n",
    "                if not hit(m,unique_peaks[idx],tol):\n",
    "                    unique_peaks.append(m)\n",
    "                    instances.append(1)\n",
    "                else:\n",
    "                    instances[idx] += 1\n",
    "    if spec_pos % 100 == 0:\n",
    "        print spec_pos,len(unique_peaks)\n",
    "    spec_pos += 1\n",
    "        \n",
    "\n",
    "            "
   ]
  },
  {
   "cell_type": "code",
   "execution_count": 438,
   "metadata": {
    "collapsed": false
   },
   "outputs": [
    {
     "name": "stdout",
     "output_type": "stream",
     "text": [
      "Resulted in 3072 words\n"
     ]
    }
   ],
   "source": [
    "min_occurance = 10\n",
    "word_names = []\n",
    "word_masses = []\n",
    "for i,u in enumerate(unique_peaks):\n",
    "    if instances[i] >= min_occurance:\n",
    "        word_masses.append(u)\n",
    "        word_names.append(str(u))\n",
    "print \"Resulted in {} words\".format(len(word_names))\n",
    "word_masses = np.array(word_masses)"
   ]
  },
  {
   "cell_type": "markdown",
   "metadata": {},
   "source": [
    "make the documents"
   ]
  },
  {
   "cell_type": "code",
   "execution_count": 460,
   "metadata": {
    "collapsed": false
   },
   "outputs": [
    {
     "name": "stdout",
     "output_type": "stream",
     "text": [
      "0\n",
      "100\n",
      "200\n",
      "300\n",
      "400\n",
      "500\n",
      "600\n",
      "700\n",
      "800\n",
      "900\n",
      "1000\n",
      "1100\n",
      "1200\n",
      "1300\n",
      "1400\n",
      "1500\n",
      "1600\n",
      "1700\n",
      "1800\n",
      "1900\n",
      "2000\n",
      "2100\n",
      "2200\n"
     ]
    }
   ],
   "source": [
    "run = pymzml.run.Reader(aa_file, MS1_Precision=5e-6)\n",
    "norm_intense_to = 100\n",
    "sid = 0\n",
    "corpus = {}\n",
    "for spectrum in run:\n",
    "    new_doc = {}\n",
    "    max_i = 0.0\n",
    "    if sid % 2 == 0:\n",
    "        for m,i in spectrum.peaks:\n",
    "            if i > min_intense:\n",
    "                # try and match the peak to a word\n",
    "                idx = (np.abs(m - word_masses)).argmin()\n",
    "                if hit(m,word_masses[idx],tol):\n",
    "                    new_doc[word_names[idx]] = round(i/100.0)\n",
    "            if i> max_i:\n",
    "                max_i = i\n",
    "    corpus[str(sid)] = new_doc\n",
    "#     for word in new_doc:\n",
    "#         new_doc[word] = round(norm_intense_to * new_doc[word]/max_i)\n",
    "    if sid % 100 == 0:\n",
    "        print sid\n",
    "    sid += 1"
   ]
  },
  {
   "cell_type": "markdown",
   "metadata": {},
   "source": [
    "As a test, find the histidine word"
   ]
  },
  {
   "cell_type": "code",
   "execution_count": 461,
   "metadata": {
    "collapsed": false
   },
   "outputs": [
    {
     "name": "stdout",
     "output_type": "stream",
     "text": [
      "175.120361911\n"
     ]
    },
    {
     "data": {
      "image/png": "[encoded data removed]",
      "text/plain": [
       "<matplotlib.figure.Figure at 0x148595390>"
      ]
     },
     "metadata": {},
     "output_type": "display_data"
    }
   ],
   "source": [
    "hist_idx = (np.abs(175.1190 - word_masses)).argmin()\n",
    "print word_names[hist_idx]\n",
    "plt.figure()\n",
    "for i,y in enumerate(rowcoord):\n",
    "    thisdoc = corpus[str(i)]\n",
    "    h_i = thisdoc.get(word_names[hist_idx],0.0)\n",
    "    x = colcoord[i]\n",
    "    plt.plot(x,y,'k.')\n",
    "    if h_i > 0.0:\n",
    "        plt.plot(x,y,'ro',markersize=h_i/2)"
   ]
  },
  {
   "cell_type": "code",
   "execution_count": 459,
   "metadata": {
    "collapsed": false
   },
   "outputs": [
    {
     "name": "stdout",
     "output_type": "stream",
     "text": [
      "3.51358457493\n"
     ]
    }
   ],
   "source": []
  },
  {
   "cell_type": "code",
   "execution_count": null,
   "metadata": {
    "collapsed": true
   },
   "outputs": [],
   "source": []
  }
 ],
 "metadata": {
  "kernelspec": {
   "display_name": "Python 2",
   "language": "python",
   "name": "python2"
  },
  "language_info": {
   "codemirror_mode": {
    "name": "ipython",
    "version": 2
   },
   "file_extension": ".py",
   "mimetype": "text/x-python",
   "name": "python",
   "nbconvert_exporter": "python",
   "pygments_lexer": "ipython2",
   "version": "2.7.10"
  }
 },
 "nbformat": 4,
 "nbformat_minor": 0
}
